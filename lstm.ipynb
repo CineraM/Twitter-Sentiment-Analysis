{
 "cells": [
  {
   "cell_type": "markdown",
   "metadata": {},
   "source": [
    "# Imports\n"
   ]
  },
  {
   "cell_type": "code",
   "execution_count": 1,
   "metadata": {},
   "outputs": [],
   "source": [
    "import tensorflow as tf\n",
    "import numpy as np"
   ]
  },
  {
   "cell_type": "markdown",
   "metadata": {},
   "source": [
    "# Function"
   ]
  },
  {
   "cell_type": "code",
   "execution_count": 2,
   "metadata": {},
   "outputs": [],
   "source": [
    "def getLabel(label):\n",
    "    # numerical mapping of the labels\n",
    "    if label == str.encode(\"joy\"):\n",
    "        return 0\n",
    "    elif label == str.encode(\"sadness\"):\n",
    "        return 1\n",
    "    elif label == str.encode(\"fear\"):\n",
    "        return 2\n",
    "    elif label == str.encode(\"anger\"):\n",
    "        return 3\n",
    "\n",
    "\n",
    "def save_model(model, filename):\n",
    "    model.save(filename)\n",
    "\n",
    "\n",
    "def load_model(filename):\n",
    "    return tf.keras.models.load_model(filename)"
   ]
  },
  {
   "cell_type": "markdown",
   "metadata": {},
   "source": [
    "# Load Data\n"
   ]
  },
  {
   "cell_type": "code",
   "execution_count": null,
   "metadata": {},
   "outputs": [],
   "source": [
    "# Open training data\n",
    "train_dataset = tf.data.TextLineDataset(\"emotions_train.csv\").skip(1)\n",
    "test_dataset = tf.data.TextLineDataset(\"emotions_test.csv\").skip(1)\n",
    "\n",
    "x_train = []\n",
    "y_train = []\n",
    "\n",
    "# Formatting data for the network\n",
    "for line in train_dataset:\n",
    "    split_line = tf.strings.split(line, \",\", maxsplit=2)\n",
    "    x_train.append(split_line[2].numpy())\n",
    "    y_train.append(getLabel(split_line[1].numpy()))\n",
    "\n",
    "x_train = np.asarray(x_train)\n",
    "y_train = np.asarray(y_train)\n",
    "\n",
    "print(x_train[0])\n",
    "print(y_train[0])\n",
    "\n",
    "x_test = []\n",
    "y_test = []\n",
    "\n",
    "# Formatting data for the network\n",
    "for line in test_dataset:\n",
    "    split_line = tf.strings.split(line, \",\", maxsplit=2)\n",
    "    x_test.append(split_line[2].numpy())\n",
    "    y_test.append(getLabel(split_line[1].numpy()))\n",
    "\n",
    "x_test = np.asarray(x_test)\n",
    "y_test = np.asarray(y_test)\n",
    "\n",
    "print(x_test[0])\n",
    "print(y_test[0])"
   ]
  },
  {
   "cell_type": "markdown",
   "metadata": {},
   "source": [
    "# Manipulate Data"
   ]
  },
  {
   "cell_type": "code",
   "execution_count": null,
   "metadata": {},
   "outputs": [],
   "source": [
    "# Convert strings to arrays of numbers\n",
    "max_words = 1000\n",
    "vectorize_layer = tf.keras.layers.TextVectorization(\n",
    "    max_tokens=max_words)\n",
    "\n",
    "vectorize_layer.adapt(x_train)\n"
   ]
  },
  {
   "cell_type": "markdown",
   "metadata": {},
   "source": [
    "# Training\n"
   ]
  },
  {
   "cell_type": "code",
   "execution_count": null,
   "metadata": {},
   "outputs": [],
   "source": [
    "# Initialize the model - SRNN\n",
    "model = tf.keras.Sequential([\n",
    "    vectorize_layer,\n",
    "    tf.keras.layers.Embedding(\n",
    "        input_dim=max_words, output_dim=64, mask_zero=True),\n",
    "    tf.keras.layers.SimpleRNN(64),\n",
    "    tf.keras.layers.Dense(64, activation='relu'),\n",
    "    tf.keras.layers.Dense(4, activation='softmax')\n",
    "])\n",
    "\n",
    "# Training the model\n",
    "model.compile(loss=tf.keras.losses.SparseCategoricalCrossentropy(),\n",
    "              optimizer=tf.keras.optimizers.Adam(1e-4), metrics=['accuracy'])\n",
    "\n",
    "model.fit(x=x_train, y=y_train, epochs=100,\n",
    "          batch_size=64, validation_data=(x_test, y_test))\n",
    "\n",
    "# Saving the model\n",
    "MODEL_NAME = \"model.tf\"\n",
    "save_model(model, MODEL_NAME)"
   ]
  }
 ],
 "metadata": {
  "interpreter": {
   "hash": "acfd08a7faa67adda30a139a14258a4609e125be16bd9d56539cb9e1d9f3c0a6"
  },
  "kernelspec": {
   "display_name": "Python 3.10.4 64-bit",
   "language": "python",
   "name": "python3"
  },
  "language_info": {
   "codemirror_mode": {
    "name": "ipython",
    "version": 3
   },
   "file_extension": ".py",
   "mimetype": "text/x-python",
   "name": "python",
   "nbconvert_exporter": "python",
   "pygments_lexer": "ipython3",
   "version": "3.10.4"
  },
  "orig_nbformat": 4
 },
 "nbformat": 4,
 "nbformat_minor": 2
}
